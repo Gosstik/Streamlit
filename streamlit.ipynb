{
 "cells": [
  {
   "cell_type": "markdown",
   "metadata": {},
   "source": [
    "<h1><a href=\"https://streamlit.io/\" style=\"text-decoration:none\">Библиотека Streamlit</a></h1>"
   ]
  },
  {
   "cell_type": "markdown",
   "metadata": {},
   "source": [
    "<div style=\"position:relative\">\n",
    "    <img src=\"./data/streamlit_logo.jpg\" align=\"right\" width=\"500\"/>\n",
    "</div>\n",
    "\n",
    "## Оглавление:\n",
    "#### 1) <a href=\"#1\" style=\"text-decoration:none\">Почему Streamlit?</a>\n",
    "#### 2) <a href=\"#2\" style=\"text-decoration:none\">Установка, основные функции и их применение</a>\n",
    "#### 3) <a href=\"#3\" style=\"text-decoration:none\">Деплой web-приложения</a>"
   ]
  },
  {
   "cell_type": "markdown",
   "metadata": {},
   "source": [
    "## Приступим!"
   ]
  },
  {
   "cell_type": "markdown",
   "metadata": {},
   "source": [
    "<div>\n",
    "<img src=\"./data/here_we_go_again.png\" align=\"left\" width=\"500\"/>\n",
    "</div>"
   ]
  },
  {
   "cell_type": "markdown",
   "metadata": {
    "collapsed": true,
    "pycharm": {
     "is_executing": true
    }
   },
   "source": [
    "***\n",
    "## <a name=\"1\"></a> Почему Streamlit?\n",
    "\n",
    "Библиотека Streamlit &mdash; это бесплатный фреймворк на Python с открытым исходным кодом для быстрого создания интерактивных информационных панелей и web-приложений для машинного обучения. В первую очередь данный фреймворк предназначен для помощи специалистам по обработке данных и инженерам машинного обучения, которые не являются веб-разработчиками и не заинтересованы тратить недели на изучение тонкостей front-end разработки (html, js, css) для создания web-приложений. Вместо этого им нужен инструмент, который проще в освоении и использовании, при этом предоставляет возможность отображать данные и собирать необходимые параметры для моделирования. Streamlit позволяет создать приложение с современным дизайном всего за несколько строк кода.\n",
    "\n",
    "В частности, <a href=\"https://github.com/streamlit/demo-self-driving\" style=\"text-decoration:none\">тут</a> можно посмотреть, как набор фото-данных для беспилотных автомобилей Audacity можно объединить с обнаружением объектов менее чем за 300 строк кода и получить возможность запускать нейронную сеть (YOLO) в реальном времени из приложения Streamlit.\n",
    "<div style=\"position:relative\">\n",
    "    <img src=\"./data/udacity.gif\" width=\"700\"/>\n",
    "</div>\n",
    "\n",
    "Установка всего в 2 строчки:\n",
    "\n",
    "<code>pip install --upgrade streamlit opencv-python\n",
    "streamlit run https://raw.githubusercontent.com/streamlit/demo-self-driving/master/streamlit_app.py\n",
    "</code>"
   ]
  },
  {
   "cell_type": "markdown",
   "metadata": {},
   "source": [
    "Также впечатляющей работой является <a href=\"https://github.com/streamlit/demo-uber-nyc-pickups\" style=\"text-decoration:none\">Uber Pickups in New York City</a>."
   ]
  },
  {
   "cell_type": "markdown",
   "metadata": {},
   "source": [
    "<div style=\"position:relative\">\n",
    "    <img src=\"./data/uber.png\" align=\"left\" width=\"700\"/>\n",
    "</div>"
   ]
  },
  {
   "cell_type": "markdown",
   "metadata": {},
   "source": [
    "Установка:\n",
    "\n",
    "<code>pip install --upgrade streamlit\n",
    "streamlit run https://raw.githubusercontent.com/streamlit/demo-uber-nyc-pickups/main/streamlit_app.py\n",
    "</code>"
   ]
  },
  {
   "cell_type": "markdown",
   "metadata": {},
   "source": [
    "Первоначальное название было “Streamlet”, но потом кто-то неправильно напечатал его как “Streamlit”, и так разработчикам понравилось больше. \"stream\" с английского \"передавать\", а \"lit\" &mdash; “освещенный”.\n",
    "\n",
    "Streamlit имеет возможность подключения к большинству самых современных и популярных баз данных и API, среди которых PostgreSQL, Google Cloud Storage, Google Sheet и другие. Они используют 'Secrete Management' и кэширование для обеспечения безопасного и быстрого доступа к данным."
   ]
  },
  {
   "cell_type": "markdown",
   "metadata": {},
   "source": [
    "<div style=\"position:relative\">\n",
    "    <img src=\"./data/data_1.png\" align=\"left\" width=\"700\"/>\n",
    "    <img src=\"./data/data_2.png\" align=\"left\" width=\"700\"/>\n",
    "</div>"
   ]
  },
  {
   "cell_type": "markdown",
   "metadata": {},
   "source": [
    "***\n",
    "## <a name=\"2\"></a> Основные функции"
   ]
  },
  {
   "cell_type": "markdown",
   "metadata": {},
   "source": [
    "Свежую и подробную `инструкцию по установке` Streamlit на Linux, Windows и MacOS можно найти <a href=\"https://docs.streamlit.io/library/get-started/installation\" style=\"text-decoration:none\">тут</a>."
   ]
  },
  {
   "cell_type": "markdown",
   "metadata": {},
   "source": [
    "Перечислим наиболее востребованные функции:\n",
    "\n",
    "1) <a href=\"#2_1\" style=\"text-decoration:none\">**Отрисовка текста**</a>\n",
    "    * st.write() &mdash; добавление чего угодно в веб-приложение: форматированной строки, таблицы pandas, диаграмм matplotlib, plotly и т.д.\n",
    "    * st.title() &mdash; добавить название приложения\n",
    "    * st.header() &mdash; создать заголовок раздела\n",
    "    * st.markdown() &mdash; использовать markdown\n",
    "    * st.subheader() &mdash; создать подзаголовок раздела\n",
    "    * st.caption() &mdash; подпись\n",
    "    * st.code() &mdash; секция с кодом\n",
    "    * st.latex() &mdash; использовать форматирование Latex\n",
    "2) <a href=\"#2_2\" style=\"text-decoration:none\">**Отображение изображений, видео или аудиофайлов**</a>\n",
    "    * st.image() &mdash; фото\n",
    "    * st.audio() &mdash; аудио\n",
    "    * st.video() &mdash; видео\n",
    "3) <a href=\"#2_3\" style=\"text-decoration:none\">**Создание виджетов**</a>\n",
    "    * st.checkbox() &mdash; флаг (функция возвращает True, когда флаг установлен, и False иначе)\n",
    "    * st.button() &mdash; кнопка\n",
    "    * st.radio() &mdash; флаг с переключателем\n",
    "    * st.selectbox() &mdash; выпадающий список\n",
    "    * st.multiselect() &mdash; выпадающий список с возможностью выбрать несколько вариантов одновременно\n",
    "    * st.select_slider() &mdash; ползунок (произовольные значения)\n",
    "    * st.slider() &mdash; ползунок (только числовой диапазон)\n",
    "    * st.number_input() &mdash; ввод числа\n",
    "    * st.date_input() &mdash; ввод даты\n",
    "    * st.time_input() &mdash; ввод времени\n",
    "    * st.text_input() &mdash; ввод текста (1 строка)\n",
    "    * st.text_area() &mdash; ввод текста (больше 1 строки)\n",
    "    * st.file_uploader() &mdash; виджет для загрузки файла\n",
    "    * st.color_picker() &mdash; виджет с возможностью выбора цвета\n",
    "4) <a href=\"#2_4\" style=\"text-decoration:none\">**Отображение прогресса и статуса**</a>\n",
    "    * st.progress() &mdash; индикатор прогресса\n",
    "    * st.spinner() &mdash; временное сообщение об ожидании выполнения операции\n",
    "    * st.success() &mdash; сообщение об успехе\n",
    "    * st.error() &mdash; сообщение об ошибке\n",
    "    * st.warnig() &mdash; предупреждение\n",
    "    * st.info() &mdash; сообщение с информацией\n",
    "    * st.exception() &mdash; сообщение об исключении\n",
    "5) <a href=\"#2_5\" style=\"text-decoration:none\">**Создание боковых панелей и контейнеров**</a>\n",
    "    * st.sidebar() &mdash; бокова панель\n",
    "    * st.container() &mdash; невидимый контейнер\n",
    "6) <a href=\"#2_6\" style=\"text-decoration:none\">**Отрисовка графиков**</a>\n",
    "    * st.pyplot() &mdash; графики matplotlib.pyplot\n",
    "    * st.line_chart() &mdash; линейная диаграмма\n",
    "    * st.bar_chart() &mdash; столбчатая диаграмма\n",
    "    * st.area_chart() &mdash; диаграмма области \n",
    "    * st.graphviz_chart() &mdash; объекты, представимые в виде графа\n",
    "    * st.map() &mdash; географические карты"
   ]
  },
  {
   "cell_type": "markdown",
   "metadata": {},
   "source": [
    "Рассмотрим работу этих функций на конкретных примерах.\n",
    "\n",
    "Так как Streamlit предназначен для написания web-приложений, то не получится работать с его функциями с помощью ячеек кода jupyter-ноутбука. Вообще, реализованное с помощью библитеки Streamlit приложение должно находиться в одном файле с расширением `.py`. Для запуска приложения необходимо перейти в директорию, где расположен файл с исходным кодом, открыть терминал и ввести:\n",
    "\n",
    "<code>streamlit run file_name.py<code/>\n",
    "\n",
    "`file_name.py` &mdash; название файла с реализацией.\n",
    "    \n",
    "В силу ограничений поступим следующим образом: далее в каждой ячейке с кодом будет написана самостоятельная программа и показан результат её работы в браузере. При желании достаточно скопировать код программы к себе в файл и попробовать запустить приложение локально.\n",
    "    \n",
    "**Attention:** здесь будет рассмотрена лишь некоторая (малая) часть возможностей описанных функций. За более подробной информацией следует обратиться к <a href=\"https://docs.streamlit.io/\" style=\"text-decoration:none\">официальной документации</a>."
   ]
  },
  {
   "cell_type": "markdown",
   "metadata": {},
   "source": [
    "### 1. <a name=\"2_1\"></a> Отрисовка текста"
   ]
  },
  {
   "cell_type": "markdown",
   "metadata": {},
   "source": [
    "Тут просто приведём пример работы функций."
   ]
  },
  {
   "cell_type": "code",
   "execution_count": null,
   "metadata": {
    "pycharm": {
     "is_executing": true
    }
   },
   "outputs": [],
   "source": [
    "import streamlit as st\n",
    "\n",
    "st.write(\"Hello from streamlit!\")\n",
    "st.title(\"App Title\")\n",
    "st.header(\"Types of text representations\")\n",
    "st.subheader(\"Markdown\")\n",
    "st.markdown(\"`example` *of* **markdown** ***text***\")\n",
    "st.subheader(\"Code\")\n",
    "st.code(\"a = 40\\n\"\n",
    "        \"b = 2\\n\"\n",
    "        \"print('The answer to the main question of life, the universe and all that is ', \"\n",
    "        \"a + b)\")\n",
    "st.subheader(\"Latex\")\n",
    "st.latex(r'''f(x)=\\frac{1}{\\sqrt{2\\pi}}e^{-\\frac{x^2}{2}}''')\n",
    "st.caption(\"Powered by Streamlit\")"
   ]
  },
  {
   "cell_type": "markdown",
   "metadata": {},
   "source": [
    "<img src=\"./data/photo_1.png\" align=\"left\"/>"
   ]
  },
  {
   "cell_type": "markdown",
   "metadata": {},
   "source": [
    "###  2. <a name=\"2_2\"></a> Отображение изображений, видео или аудиофайлов"
   ]
  },
  {
   "cell_type": "markdown",
   "metadata": {},
   "source": [
    "В качестве входных данных функция **st.image(**) принимает в себя строку, которая содержит путь до изображения, либо URL, по которому располагается это изображение. Если необходимо вставить сразу несколько картинок, то достаточно передать в функцию список путей до изображений. Также можно выставить ширину изображения и его формат: `JPEG` для сжатия с потерями (обычные фото) и `PNG` для сжатия без потерь (диаграммы). По умолчанию используется значение 'auto', которое определяет тип сжатия на основе типа и формата переданного изображения. Есть возможность добавить подпись на фотографию.\n",
    "\n",
    "Способ передачи данных в функции **st.audio()** и **st.video()** такой же. В частности, **st.audio()** хорошо справляется с аудио в формате `wav`, а **st.video()*** &mdash; с видео в формате `mp4`. Также есть возможность указать момент (в секундах), начиная с которого следует начать воспроизведение."
   ]
  },
  {
   "cell_type": "code",
   "execution_count": null,
   "metadata": {},
   "outputs": [],
   "source": [
    "import streamlit as st\n",
    "\n",
    "# при копировании необходимо создать фото по данному относительному пути\n",
    "st.image(\"./streamlit/streamlit_logo.jpg\", caption=\"Streamlit capture\")\n",
    "\n",
    "st.subheader(\"Audio\")\n",
    "st.audio(\"./streamlit/intermission.wav\", format='wav',\n",
    "         start_time=2)\n",
    "\n",
    "st.subheader(\"Video\")\n",
    "st.video(\"https://www.youtube.com/watch?v=RK1K2bCg4J8\")"
   ]
  },
  {
   "cell_type": "markdown",
   "metadata": {},
   "source": [
    "<img src=\"./data/photo_2.png\" align=\"left\"/>"
   ]
  },
  {
   "cell_type": "markdown",
   "metadata": {},
   "source": [
    "### 3. <a name=\"2_3\"></a> Создание виджетов"
   ]
  },
  {
   "cell_type": "markdown",
   "metadata": {},
   "source": [
    "Хорошее приложение должно уметь как-то взаимодействовать с пользователем. В Streamlit такое взаимодействие происходит с помощью виджетов. Библиотека располагает большим количеством инструментов, которые позволяют добавлять интерактивность с помощью кнопок, ползунков, ввода текста и многого другого."
   ]
  },
  {
   "cell_type": "code",
   "execution_count": null,
   "metadata": {},
   "outputs": [],
   "source": [
    "import streamlit as st\n",
    "\n",
    "st.selectbox(\"Choose your country\", [\"France\", \"Germany\", \"Poland\", \"United Kingdom\"])\n",
    "st.radio(\"Choose your gender\", [\"Male\", \"Female\"])\n",
    "st.slider(\"Choose your age\", 0, 100)\n",
    "st.multiselect(\"Choose your favourite musical artists\", [\"Madonna\", \"Rihanna\",\n",
    "                                                         \"Michael Jackson\", \"Lady Gaga\",\n",
    "                                                         \"Niletto\"])\n",
    "st.select_slider(\"Put your mark\", [\"Bad\", \"Good\", \"Excellent\"])\n",
    "st.checkbox(\"accept privacy policy\")\n",
    "st.button(\"confirm\")"
   ]
  },
  {
   "cell_type": "markdown",
   "metadata": {},
   "source": [
    "<img src=\"./data/photo_3.png\" align=\"left\"/>"
   ]
  },
  {
   "cell_type": "markdown",
   "metadata": {},
   "source": [
    "И вторая половина функций"
   ]
  },
  {
   "cell_type": "code",
   "execution_count": null,
   "metadata": {},
   "outputs": [],
   "source": [
    "import streamlit as st\n",
    "\n",
    "st.number_input('Pick product code', 0, 10000)\n",
    "st.text_input('Email address')\n",
    "st.date_input('Purchase date')\n",
    "st.time_input('Purchase time')\n",
    "st.text_area('Description of the problem')\n",
    "st.file_uploader('Supporting photos')\n",
    "st.color_picker('Choose color of the model')"
   ]
  },
  {
   "cell_type": "markdown",
   "metadata": {},
   "source": [
    "<img src=\"./data/photo_4.png\" align=\"left\" width=\"600\"/>"
   ]
  },
  {
   "cell_type": "markdown",
   "metadata": {},
   "source": [
    "### 4. <a name=\"2_4\"></a> Отображение прогресса и статуса"
   ]
  },
  {
   "cell_type": "markdown",
   "metadata": {},
   "source": [
    "Теперь посмотрим, как можно добавить в приложение индикатор выполнения и сообщение у нему."
   ]
  },
  {
   "cell_type": "code",
   "execution_count": null,
   "metadata": {},
   "outputs": [],
   "source": [
    "import streamlit as st\n",
    "import time\n",
    "\n",
    "progress_time = 20\n",
    "\n",
    "st.progress(progress_time)\n",
    "with st.spinner('Wait for several seconds'):\n",
    "    time.sleep(progress_time)"
   ]
  },
  {
   "cell_type": "markdown",
   "metadata": {},
   "source": [
    "<img src=\"./data/photo_5.png\" align=\"left\"/>"
   ]
  },
  {
   "cell_type": "markdown",
   "metadata": {},
   "source": [
    "Рассмотрим работу функций состояния (успех, ошибка, ...)."
   ]
  },
  {
   "cell_type": "code",
   "execution_count": null,
   "metadata": {},
   "outputs": [],
   "source": [
    "import streamlit as st\n",
    "\n",
    "st.success(\"Congratulations!\")\n",
    "st.error(\"Something went wrong :(\")\n",
    "st.warning(\"Warning!\")\n",
    "st.info(\"Crucial information\")\n",
    "st.exception(NotImplementedError(\"It will be implemented in the following versions\"))"
   ]
  },
  {
   "cell_type": "markdown",
   "metadata": {},
   "source": [
    "<img src=\"./data/photo_6.png\" align=\"left\"/>"
   ]
  },
  {
   "cell_type": "markdown",
   "metadata": {},
   "source": [
    "### 5. <a name=\"2_5\"></a> Создание боковых панелей и контейнеров"
   ]
  },
  {
   "cell_type": "markdown",
   "metadata": {},
   "source": [
    "Организация материала в приложении может оказать большое влияние на его популярность среди пользователей. Правильное расположение контента позволяет посетителям увереннее ориентироваться на сайте и находить нужную информацию быстрее, что повышает вероятность их возвращения в будущем. Для повышения удобства пользования приложением в Strealit есть возможность создать боковую панель с помощью функции **st.sidebar()**."
   ]
  },
  {
   "cell_type": "code",
   "execution_count": null,
   "metadata": {},
   "outputs": [],
   "source": [
    "import streamlit as st\n",
    "\n",
    "st.sidebar.title(\"Main menu\")\n",
    "st.sidebar.button(\"Main Page\")\n",
    "st.sidebar.button(\"Documentation\")\n",
    "st.sidebar.button(\"Advanced features\")\n",
    "st.sidebar.button(\"Help\")\n",
    "\n",
    "st.sidebar.selectbox(\"Choose your country\", [\"France\", \"Germany\", \"Poland\", \"United Kingdom\"])"
   ]
  },
  {
   "cell_type": "markdown",
   "metadata": {},
   "source": [
    "<img src=\"./data/photo_7.png\" align=\"left\"/>"
   ]
  },
  {
   "cell_type": "markdown",
   "metadata": {},
   "source": [
    "С помощью функции **st.container()** можно вставить в приложение невидимый контейнер, который можно использовать для хранения нескольких объектов. Это позволяет, например, вставлять элементы не по порядку."
   ]
  },
  {
   "cell_type": "code",
   "execution_count": null,
   "metadata": {},
   "outputs": [],
   "source": [
    "import streamlit as st\n",
    "\n",
    "container = st.container()\n",
    "container.write(\"This is inside the container\")\n",
    "st.write(\"This is outside the container\")\n",
    "\n",
    "# Now insert some more in the container\n",
    "container.write(\"This is inside too\")"
   ]
  },
  {
   "cell_type": "markdown",
   "metadata": {},
   "source": [
    "<img src=\"./data/photo_8.png\" align=\"left\"/>"
   ]
  },
  {
   "cell_type": "markdown",
   "metadata": {},
   "source": [
    "### 6. <a name=\"2_6\"></a> Отрисовка графиков"
   ]
  },
  {
   "cell_type": "markdown",
   "metadata": {},
   "source": [
    "Рассмотрим пример ипользования **st.pyplot()**."
   ]
  },
  {
   "cell_type": "code",
   "execution_count": null,
   "metadata": {},
   "outputs": [],
   "source": [
    "import streamlit as st\n",
    "import matplotlib.pyplot as plt\n",
    "import numpy as np\n",
    "\n",
    "rand = np.random.normal(1, 2, size=20)\n",
    "fig, ax = plt.subplots()\n",
    "ax.hist(rand, bins=15)\n",
    "st.pyplot(fig)"
   ]
  },
  {
   "cell_type": "markdown",
   "metadata": {},
   "source": [
    "<img src=\"./data/photo_9.png\" align=\"left\" width=\"600\"/>"
   ]
  },
  {
   "cell_type": "markdown",
   "metadata": {},
   "source": [
    "Нарисуем график с помощью **st.line_chart()**."
   ]
  },
  {
   "cell_type": "code",
   "execution_count": null,
   "metadata": {},
   "outputs": [],
   "source": [
    "import streamlit as st\n",
    "import pandas as pd\n",
    "import numpy as np\n",
    "\n",
    "df = pd.DataFrame(np.random.randn(10, 2), columns=['x', 'y'])\n",
    "st.line_chart(df)"
   ]
  },
  {
   "cell_type": "markdown",
   "metadata": {},
   "source": [
    "<img src=\"./data/photo_10.png\" align=\"left\" width=\"800\"/>"
   ]
  },
  {
   "cell_type": "markdown",
   "metadata": {},
   "source": [
    "***\n",
    "## <a name=\"3\"></a> Деплой web-приложения"
   ]
  },
  {
   "cell_type": "markdown",
   "metadata": {},
   "source": [
    "`Деплой` (от англ. deploy &mdash; развертывание) &mdash; это развертывание и запуск web-приложения или сайта в его рабочей среде, то есть на сервере или хостинге. Разработчик загружает приложение, написанное на локальном компьютере, в специальное пространство, из которого оно доступно в интернете. Этот процесс включает в себя копирование, настройку и включение приложения по определенному базовому URL-адресу. Как только процесс развертывания завершен, приложение становится общедоступным по базовому URL.\n",
    "\n",
    "Для деплоя приложения прежде всего нужно создать новый репозиторий на GitHub и поместить туда код приложения с зависимостями. После загрузки всех фрагментов нужно создать новый файл с именем `requirements`, куда необходимо поместить библиотеки, использованные в приложении. Теперь осталось нажать \"New app\" в правом верхнем углу рабочей области приложения, затем ввести свой репозиторий, ветку и путь к файлу. После нажатия кнопки \"Deploy\" ваше приложение готово к работе :)\n",
    "\n",
    "Для получения дополнительной информации перейдите по <a href=\"https://docs.streamlit.io/streamlit-community-cloud/get-started/deploy-an-app\" style=\"text-decoration:none\">ссылке</a>."
   ]
  }
 ],
 "metadata": {
  "kernelspec": {
   "display_name": "Python 3 (ipykernel)",
   "language": "python",
   "name": "python3"
  },
  "language_info": {
   "codemirror_mode": {
    "name": "ipython",
    "version": 3
   },
   "file_extension": ".py",
   "mimetype": "text/x-python",
   "name": "python",
   "nbconvert_exporter": "python",
   "pygments_lexer": "ipython3",
   "version": "3.10.6"
  }
 },
 "nbformat": 4,
 "nbformat_minor": 1
}
